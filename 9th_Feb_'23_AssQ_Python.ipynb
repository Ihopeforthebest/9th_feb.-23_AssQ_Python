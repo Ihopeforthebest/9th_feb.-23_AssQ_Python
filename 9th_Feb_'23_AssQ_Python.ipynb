{
 "cells": [
  {
   "cell_type": "code",
   "execution_count": 4,
   "id": "9f0f6177-8a40-4a7b-b820-21100f3ab3e2",
   "metadata": {},
   "outputs": [],
   "source": [
    "# Q1, Create a vehicle class with an init method having instance variables as name_of_vehicle, max_speed\n",
    "# and average_of_vehicle.\n",
    "\n",
    "# A1:-\n",
    "\n",
    "\n",
    "class Vehicle():\n",
    "    def __init__ (self,name_of_vehicle, max_speed, average_of_vehicle):\n",
    "        self.name_of_vehicle = name_of_vehicle\n",
    "        self.max_speed = max_speed\n",
    "        self.average_of_vehicle = average_of_vehicle\n",
    "        \n",
    "        return self.name_of_vehicle, self.max_speed, self.average_of_vehicle"
   ]
  },
  {
   "cell_type": "code",
   "execution_count": null,
   "id": "37755e2c-6cd4-4832-b5b9-fe04d625e0d5",
   "metadata": {},
   "outputs": [],
   "source": []
  },
  {
   "cell_type": "code",
   "execution_count": null,
   "id": "8880fb33-3c32-41d2-9ba3-791f6d926727",
   "metadata": {},
   "outputs": [],
   "source": []
  },
  {
   "cell_type": "code",
   "execution_count": null,
   "id": "48b58d5c-8e4f-43fa-8203-089ceaa9d3d3",
   "metadata": {},
   "outputs": [],
   "source": []
  },
  {
   "cell_type": "code",
   "execution_count": 3,
   "id": "134e39c1-e1cb-487a-a0cf-f25204c364ec",
   "metadata": {},
   "outputs": [],
   "source": [
    "# Q2. Create a child class car from the vehicle class created in Que 1, which will inherit the vehicle class.\n",
    "# Create a method named seating_capacity which takes capacity as an argument and returns the name of\n",
    "# the vehicle and its seating capacity."
   ]
  },
  {
   "cell_type": "code",
   "execution_count": 14,
   "id": "40e45bae-08b0-4b16-a01d-b75e2ca372a8",
   "metadata": {},
   "outputs": [
    {
     "name": "stdout",
     "output_type": "stream",
     "text": [
      "wagonr has a seating capacity of 6\n"
     ]
    }
   ],
   "source": [
    "# A2.\n",
    "\n",
    "class Car(Vehicle):\n",
    "    def __init__ (self,name_of_vehicle, max_speed, average_of_vehicle):\n",
    "        super().__init__ (name_of_vehicle, max_speed, average_of_vehicle)\n",
    "        \n",
    "    def seating_capacity(self,capacity):\n",
    "        return f\"{self.name_of_vehicle} has a seating capacity of {capacity}\"\n",
    "    \n",
    "kar = Car(name_of_vehicle = \"wagonr\", max_speed = \"120\", average_of_vehicle = \"5\")\n",
    "\n",
    "print(kar.seating_capacity(6))\n",
    "        "
   ]
  },
  {
   "cell_type": "code",
   "execution_count": null,
   "id": "00676f76-ef1f-47d0-8ab4-c8363c87702a",
   "metadata": {},
   "outputs": [],
   "source": []
  },
  {
   "cell_type": "code",
   "execution_count": null,
   "id": "87f31b80-aac2-4afe-8d48-8de9a43e3c5b",
   "metadata": {},
   "outputs": [],
   "source": []
  },
  {
   "cell_type": "code",
   "execution_count": null,
   "id": "e0ddbd33-cba4-48c3-8f2d-037ad3720f16",
   "metadata": {},
   "outputs": [],
   "source": []
  },
  {
   "cell_type": "code",
   "execution_count": 15,
   "id": "28287db9-8c5b-4303-a87c-2a8083a6cee9",
   "metadata": {},
   "outputs": [],
   "source": [
    "# Q3. What is multiple inheritance? Write a python code to demonstrate multiple inheritance."
   ]
  },
  {
   "cell_type": "code",
   "execution_count": 16,
   "id": "fd3e5a2e-b3e3-4caa-a9e7-673d3bf44e28",
   "metadata": {},
   "outputs": [],
   "source": [
    "# A3. Multiple inheritance is a feature in object-oriented programming languages where a class can inherit attributes \n",
    "# and methods from more than one base class. In Python, a class can inherit from multiple classes by listing them \n",
    "# in the class definition.\n",
    "\n",
    "# Here's a simple example demonstrating multiple inheritance in Python:"
   ]
  },
  {
   "cell_type": "code",
   "execution_count": 31,
   "id": "b7182d55-c68c-4c18-899a-4167a0f4ed94",
   "metadata": {},
   "outputs": [],
   "source": [
    "class CanSpeak():\n",
    "    def __init__ (self,name):\n",
    "        self.name = name\n",
    "        \n",
    "    def speak(self):\n",
    "        pass"
   ]
  },
  {
   "cell_type": "code",
   "execution_count": 32,
   "id": "66fbf2a6-0ca7-46b2-b31a-39e2fe490596",
   "metadata": {},
   "outputs": [],
   "source": [
    "class CanFly():\n",
    "    def canfly(self):\n",
    "        print(f\"{self.name} can fly.\")"
   ]
  },
  {
   "cell_type": "code",
   "execution_count": 33,
   "id": "06c090ca-b401-4102-8c00-2c0840e551bc",
   "metadata": {},
   "outputs": [],
   "source": [
    "class CanSwim():\n",
    "    def canswim(self):\n",
    "        print(f\"{self.name} can swim.\")"
   ]
  },
  {
   "cell_type": "code",
   "execution_count": 34,
   "id": "8919a050-b8a4-4c65-b0d0-74d272c6217c",
   "metadata": {},
   "outputs": [
    {
     "name": "stdout",
     "output_type": "stream",
     "text": [
      "Anshul says he can speak\n",
      "Anshul can fly.\n",
      "Anshul can swim.\n"
     ]
    }
   ],
   "source": [
    "class SomeBody(CanSpeak,CanFly,CanSwim):\n",
    "    def speak(self):\n",
    "        print(f\"{self.name} says he can speak\")\n",
    "        \n",
    "sb = SomeBody(\"Anshul\")\n",
    "sb.speak()\n",
    "sb.canfly()\n",
    "sb.canswim()"
   ]
  },
  {
   "cell_type": "code",
   "execution_count": null,
   "id": "2e7c3e83-f3e4-46cd-ad1a-2d3d20ebf9ea",
   "metadata": {},
   "outputs": [],
   "source": []
  },
  {
   "cell_type": "code",
   "execution_count": null,
   "id": "9036c38d-7feb-44b1-a806-e76a62ea09ae",
   "metadata": {},
   "outputs": [],
   "source": []
  },
  {
   "cell_type": "code",
   "execution_count": null,
   "id": "da6083da-8805-412c-99fe-e62942bfae87",
   "metadata": {},
   "outputs": [],
   "source": []
  },
  {
   "cell_type": "code",
   "execution_count": 35,
   "id": "6ce59830-916b-4a07-bd1f-f54415df483d",
   "metadata": {},
   "outputs": [],
   "source": [
    "# Q4. What are getter and setter in python? Create a class and create a getter and a setter method in this\n",
    "# class."
   ]
  },
  {
   "cell_type": "code",
   "execution_count": 1,
   "id": "d7797bb5-f5be-4e6e-b3b7-38fce9a863f4",
   "metadata": {},
   "outputs": [],
   "source": [
    "# A4. In Python, the getter method is used to return the value of a private variable. On the other hand,\n",
    "# the setter method is used to set the value of the above variable.\n",
    "# Below is an example to elaborate the same :-"
   ]
  },
  {
   "cell_type": "code",
   "execution_count": 4,
   "id": "112159ef-f4eb-41b7-a398-b26799eff12b",
   "metadata": {},
   "outputs": [
    {
     "name": "stdout",
     "output_type": "stream",
     "text": [
      "Current Value :  54\n"
     ]
    }
   ],
   "source": [
    "class GetSet():\n",
    "    def __init__(self):\n",
    "        self._my_variable = 0\n",
    "        \n",
    "    def getmethod(self):\n",
    "        return self._my_variable\n",
    "    \n",
    "    def setmethod(self,value):\n",
    "        if value < 0:\n",
    "            print(\" Warning : Value can't be negative. Setting it to 0\")\n",
    "            self._my_variable = 0\n",
    "            \n",
    "        else : \n",
    "            self._my_variable = value\n",
    "            \n",
    "obj = GetSet()\n",
    "\n",
    "obj.setmethod(54)\n",
    "\n",
    "print(\"Current Value : \", obj.getmethod())"
   ]
  },
  {
   "cell_type": "code",
   "execution_count": 5,
   "id": "7cd61948-ca30-48a4-8cfd-df23338021f9",
   "metadata": {},
   "outputs": [
    {
     "name": "stdout",
     "output_type": "stream",
     "text": [
      " Warning : Value can't be negative. Setting it to 0\n",
      " Updated Value :  0\n"
     ]
    }
   ],
   "source": [
    "obj.setmethod(-42)\n",
    "\n",
    "print(\" Updated Value : \", obj.getmethod())"
   ]
  },
  {
   "cell_type": "code",
   "execution_count": null,
   "id": "d83fe2a7-80c9-4447-9f43-05242a94ca01",
   "metadata": {},
   "outputs": [],
   "source": []
  },
  {
   "cell_type": "code",
   "execution_count": null,
   "id": "a63d11b2-3823-4bc0-9a5b-ae1f86f8e12e",
   "metadata": {},
   "outputs": [],
   "source": []
  },
  {
   "cell_type": "code",
   "execution_count": null,
   "id": "7461c831-e5e8-49cb-809d-d6d830542ed7",
   "metadata": {},
   "outputs": [],
   "source": []
  },
  {
   "cell_type": "code",
   "execution_count": 6,
   "id": "d4d19301-4e7a-477d-b141-59067b12b17d",
   "metadata": {},
   "outputs": [],
   "source": [
    "# Q5.What is method overriding in python? Write a python code to demonstrate method overriding."
   ]
  },
  {
   "cell_type": "code",
   "execution_count": 7,
   "id": "09063f87-ddfc-4299-ae54-c33302c597d0",
   "metadata": {},
   "outputs": [],
   "source": [
    "# A5. When one class inherits another class but defines the same method once again, then the same\n",
    "# method in the parent class has different properties in the child classes. This is called method overriding."
   ]
  },
  {
   "cell_type": "code",
   "execution_count": 9,
   "id": "986d37a8-92ad-438e-97d2-ac083d9aad1c",
   "metadata": {},
   "outputs": [
    {
     "name": "stdout",
     "output_type": "stream",
     "text": [
      "Animal speaks\n",
      "Dog barks\n",
      "Cat meows\n"
     ]
    }
   ],
   "source": [
    "class Animal():\n",
    "    def speak(self):\n",
    "        print(\"Animal speaks\")\n",
    "        \n",
    "class Dog(Animal):\n",
    "    def speak(self):\n",
    "        print(\"Dog barks\")\n",
    "        \n",
    "class Cat(Animal):\n",
    "    def speak(self):\n",
    "        print(\"Cat meows\")\n",
    "        \n",
    "animal_obj = Animal()\n",
    "dog_obj = Dog()\n",
    "cat_obj = Cat()\n",
    "\n",
    "animal_obj.speak()\n",
    "dog_obj.speak()\n",
    "cat_obj.speak()"
   ]
  },
  {
   "cell_type": "code",
   "execution_count": null,
   "id": "d74bc7e8-9569-46e0-a91c-7a7e1e2bf180",
   "metadata": {},
   "outputs": [],
   "source": []
  }
 ],
 "metadata": {
  "kernelspec": {
   "display_name": "Python 3 (ipykernel)",
   "language": "python",
   "name": "python3"
  },
  "language_info": {
   "codemirror_mode": {
    "name": "ipython",
    "version": 3
   },
   "file_extension": ".py",
   "mimetype": "text/x-python",
   "name": "python",
   "nbconvert_exporter": "python",
   "pygments_lexer": "ipython3",
   "version": "3.10.8"
  }
 },
 "nbformat": 4,
 "nbformat_minor": 5
}
